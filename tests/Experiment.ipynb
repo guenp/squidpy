{
 "cells": [
  {
   "cell_type": "code",
   "execution_count": 1,
   "metadata": {
    "collapsed": false
   },
   "outputs": [],
   "source": [
    "import squidpy"
   ]
  },
  {
   "cell_type": "code",
   "execution_count": 2,
   "metadata": {
    "collapsed": false
   },
   "outputs": [],
   "source": [
    "mock = squidpy.Mock()\n",
    "mock2 = squidpy.Mock()"
   ]
  },
  {
   "cell_type": "code",
   "execution_count": 3,
   "metadata": {
    "collapsed": false,
    "scrolled": false
   },
   "outputs": [
    {
     "data": {
      "text/html": [
       "\n",
       "    Mock instrument for testing squidpy\n",
       "    <table width=100%><tr><td>time</td><td>0.4467439651489258</td></tr><tr><td>wave</td><td>0.4321433684513691</td></tr><tr><td>voltage</td><td>10</td></tr></table>"
      ],
      "text/plain": [
       "<squidpy.instruments.mock_instrument.Mock at 0x106525910>"
      ]
     },
     "execution_count": 3,
     "metadata": {},
     "output_type": "execute_result"
    }
   ],
   "source": [
    "mock"
   ]
  },
  {
   "cell_type": "code",
   "execution_count": 4,
   "metadata": {
    "collapsed": false
   },
   "outputs": [
    {
     "data": {
      "text/html": [
       "\n",
       "    Mock instrument for testing squidpy\n",
       "    <table width=100%><tr><td>time</td><td>0.9608619213104248</td></tr><tr><td>wave</td><td>0.8196947430926714</td></tr><tr><td>voltage</td><td>2</td></tr></table>"
      ],
      "text/plain": [
       "<squidpy.instruments.mock_instrument.Mock at 0x107b3d690>"
      ]
     },
     "execution_count": 4,
     "metadata": {},
     "output_type": "execute_result"
    }
   ],
   "source": [
    "mock2.voltage = 2\n",
    "mock2"
   ]
  },
  {
   "cell_type": "code",
   "execution_count": 5,
   "metadata": {
    "collapsed": true
   },
   "outputs": [],
   "source": [
    "%matplotlib inline"
   ]
  },
  {
   "cell_type": "code",
   "execution_count": 92,
   "metadata": {
    "collapsed": true
   },
   "outputs": [],
   "source": [
    "from pylab import *"
   ]
  },
  {
   "cell_type": "markdown",
   "metadata": {},
   "source": [
    "### Test experiment"
   ]
  },
  {
   "cell_type": "code",
   "execution_count": 75,
   "metadata": {
    "collapsed": false
   },
   "outputs": [],
   "source": [
    "from multiprocessing import Process, Queue\n",
    "class TestExperiment(Process):\n",
    "    def __init__(self):\n",
    "        super(TestExperiment, self).__init__()\n",
    "        self.params = {\n",
    "            'v1': (mock,'voltage'),\n",
    "            'v2': (mock2,'voltage'),\n",
    "            'time1': (mock, 'time'),\n",
    "            'time2': (mock2, 'time'),\n",
    "            'wave1': (mock, 'wave'),\n",
    "            'wave2': (mock2,'wave')\n",
    "        }\n",
    "        self.title = 'my first experiment'\n",
    "        self.q = Queue()\n",
    "    \n",
    "    def get_dp(self):\n",
    "        return {key: getattr(self.params[key][0],self.params[key][1]) for key in self.params}\n",
    "    \n",
    "    def run(self):\n",
    "        mock.time = 0\n",
    "        while mock.time<10:\n",
    "            self.q.put(self.get_dp())\n",
    "            pause(.1)\n",
    "        print('done!')"
   ]
  },
  {
   "cell_type": "code",
   "execution_count": 126,
   "metadata": {
    "collapsed": true
   },
   "outputs": [],
   "source": [
    "import numpy\n",
    "from IPython import display\n",
    "class LivePlot():\n",
    "    def __init__(self, q):\n",
    "        self.q = q\n",
    "        self.fig = None\n",
    "        while not self.q.empty():\n",
    "            if not self.fig:\n",
    "                self.create_plot(q.get())\n",
    "            self.update_plot(self.q.get())\n",
    "            pause(.1)\n",
    "        display.clear_output(wait=True)\n",
    "    \n",
    "    def create_plot(self,d):\n",
    "        self.fig = figure()\n",
    "        title(test.title)\n",
    "        plot(d['time1'], d['wave1'], '.')\n",
    "        plot(d['time1'], d['wave2'], '.')\n",
    "        xlabel('time (s)'), ylabel('wave (a.u.)')\n",
    "        \n",
    "    def update_plot(self,dp):\n",
    "        x = dp['time1']\n",
    "        y = dp['wave1']\n",
    "        y2 = dp['wave2']\n",
    "        self.update_line(self.fig.axes[0], self.fig.axes[0].get_lines()[0], x,y)\n",
    "        self.update_line(self.fig.axes[0], self.fig.axes[0].get_lines()[1], x,y2)\n",
    "        \n",
    "    def update_line(self, ax, hl, x, y):\n",
    "        hl.set_xdata(numpy.append(hl.get_xdata(), x))\n",
    "        hl.set_ydata(numpy.append(hl.get_ydata(), y))\n",
    "        ax.relim()\n",
    "        ax.autoscale()\n",
    "        plt.draw()\n",
    "        display.clear_output(wait=True)\n",
    "        display.display(gcf())"
   ]
  },
  {
   "cell_type": "code",
   "execution_count": 127,
   "metadata": {
    "collapsed": false
   },
   "outputs": [],
   "source": [
    "test = TestExperiment()"
   ]
  },
  {
   "cell_type": "code",
   "execution_count": 128,
   "metadata": {
    "collapsed": false
   },
   "outputs": [],
   "source": [
    "test.start()"
   ]
  },
  {
   "cell_type": "code",
   "execution_count": 129,
   "metadata": {
    "collapsed": false
   },
   "outputs": [
    {
     "data": {
      "image/png": "[encoded data removed]",
      "text/plain": [
       "<matplotlib.figure.Figure at 0x10b7f5c10>"
      ]
     },
     "metadata": {},
     "output_type": "display_data"
    }
   ],
   "source": [
    "liveplot = LivePlot(test.q)"
   ]
  },
  {
   "cell_type": "code",
   "execution_count": 94,
   "metadata": {
    "collapsed": true
   },
   "outputs": [],
   "source": [
    "liveplot.fig"
   ]
  },
  {
   "cell_type": "code",
   "execution_count": 85,
   "metadata": {
    "collapsed": false
   },
   "outputs": [],
   "source": [
    "test.start()\n",
    "plot.start()"
   ]
  },
  {
   "cell_type": "code",
   "execution_count": 86,
   "metadata": {
    "collapsed": true
   },
   "outputs": [],
   "source": [
    "plot.join()"
   ]
  },
  {
   "cell_type": "code",
   "execution_count": 88,
   "metadata": {
    "collapsed": false
   },
   "outputs": [
    {
     "name": "stdout",
     "output_type": "stream",
     "text": [
      "done!\n"
     ]
    }
   ],
   "source": [
    "test.join()"
   ]
  },
  {
   "cell_type": "code",
   "execution_count": 82,
   "metadata": {
    "collapsed": false
   },
   "outputs": [
    {
     "data": {
      "text/plain": [
       "[<matplotlib.lines.Line2D at 0x10b1edc10>]"
      ]
     },
     "execution_count": 82,
     "metadata": {},
     "output_type": "execute_result"
    },
    {
     "data": {
      "image/png": "[encoded data removed]",
      "text/plain": [
       "<matplotlib.figure.Figure at 0x10ab86050>"
      ]
     },
     "metadata": {},
     "output_type": "display_data"
    }
   ],
   "source": [
    "fig = figure()\n",
    "title(test.title)\n",
    "xlabel('time (s)'), ylabel('wave (a.u.)')\n",
    "plot(d['time1'], d['wave1'], '.')\n",
    "plot(d['time1'], d['wave2'], '.')"
   ]
  },
  {
   "cell_type": "code",
   "execution_count": null,
   "metadata": {
    "collapsed": true
   },
   "outputs": [],
   "source": []
  }
 ],
 "metadata": {
  "kernelspec": {
   "display_name": "Python 3",
   "language": "python",
   "name": "python3"
  },
  "language_info": {
   "codemirror_mode": {
    "name": "ipython",
    "version": 3
   },
   "file_extension": ".py",
   "mimetype": "text/x-python",
   "name": "python",
   "nbconvert_exporter": "python",
   "pygments_lexer": "ipython3",
   "version": "3.3.5"
  }
 },
 "nbformat": 4,
 "nbformat_minor": 0
}
