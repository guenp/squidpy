{
 "cells": [
  {
   "cell_type": "code",
   "execution_count": null,
   "metadata": {
    "collapsed": true
   },
   "outputs": [],
   "source": [
    "import squidpy\n",
    "mock1 = squidpy.Mock('mock1')\n",
    "mock2 = squidpy.Mock('mock2')\n",
    "instruments = squidpy.InstrumentList(mock1, mock2)"
   ]
  },
  {
   "cell_type": "code",
   "execution_count": null,
   "metadata": {
    "collapsed": false,
    "scrolled": true
   },
   "outputs": [
    {
     "name": "stdout",
     "output_type": "stream",
     "text": [
      "Connected by ('127.0.0.1', 56128)\n",
      "b'[ins.name for ins in instruments]'\n",
      "b'mock1.__doc__'\n",
      "b'mock2.__doc__'\n",
      "b'mock1.params'\n",
      "b'mock2.params'\n",
      "b\"print('hello world')\"\n",
      "hello world\n",
      "b\"print('hello world')\"\n",
      "hello world\n",
      "b\"print('hello world')\""
     ]
    }
   ],
   "source": [
    "squidpy.run_instrument_server(instruments)"
   ]
  },
  {
   "cell_type": "code",
   "execution_count": null,
   "metadata": {
    "collapsed": true
   },
   "outputs": [],
   "source": []
  }
 ],
 "metadata": {
  "kernelspec": {
   "display_name": "Python 3",
   "language": "python",
   "name": "python3"
  },
  "language_info": {
   "codemirror_mode": {
    "name": "ipython",
    "version": 3
   },
   "file_extension": ".py",
   "mimetype": "text/x-python",
   "name": "python",
   "nbconvert_exporter": "python",
   "pygments_lexer": "ipython3",
   "version": "3.5.0"
  }
 },
 "nbformat": 4,
 "nbformat_minor": 0
}
