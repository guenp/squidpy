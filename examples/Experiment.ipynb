{
 "cells": [
  {
   "cell_type": "code",
   "execution_count": 1,
   "metadata": {
    "collapsed": false
   },
   "outputs": [],
   "source": [
    "import squidpy\n",
    "import pylab as pl\n",
    "%matplotlib inline\n",
    "\n",
    "mock1 = squidpy.Mock('mock1')\n",
    "mock2 = squidpy.Mock('mock2')\n",
    "instruments = squidpy.InstrumentList(mock1, mock2)"
   ]
  },
  {
   "cell_type": "code",
   "execution_count": 2,
   "metadata": {
    "collapsed": false
   },
   "outputs": [
    {
     "data": {
      "text/html": [
       "\n",
       "    Instrument list class. Show an overview of all instruments.\n",
       "    <table width=100%><tr><td>mock1</td><td>['time', 'voltage', 'wave']</td></tr><tr><td>mock2</td><td>['time', 'voltage', 'wave']</td></tr></table>"
      ],
      "text/plain": [
       "[<squidpy.instruments.mock_instrument.Mock at 0x1062be5f8>,\n",
       " <squidpy.instruments.mock_instrument.Mock at 0x1062be6a0>]"
      ]
     },
     "execution_count": 2,
     "metadata": {},
     "output_type": "execute_result"
    }
   ],
   "source": [
    "instruments"
   ]
  },
  {
   "cell_type": "code",
   "execution_count": 3,
   "metadata": {
    "collapsed": false
   },
   "outputs": [],
   "source": [
    "title = 'my first experiment'\n",
    "test = squidpy.Experiment(title, instruments.all())\n",
    "\n",
    "test.sweep(mock2,'voltage')[0:3:1]\n",
    "test.sweep(mock1,'voltage')[0:0.3:.1]\n",
    "test.measure(instruments.all())\n",
    "\n",
    "mock1.reset_timer()\n",
    "test.run()"
   ]
  },
  {
   "cell_type": "code",
   "execution_count": 15,
   "metadata": {
    "collapsed": false
   },
   "outputs": [],
   "source": [
    "title = 'my first experiment'\n",
    "test = squidpy.Experiment(title, instruments.all())\n",
    "test.watch(10)\n",
    "mock1.time = 0\n",
    "test.run()"
   ]
  },
  {
   "cell_type": "code",
   "execution_count": 24,
   "metadata": {
    "collapsed": false,
    "scrolled": true
   },
   "outputs": [
    {
     "data": {
      "text/plain": [
       "[<matplotlib.lines.Line2D at 0x10a006a20>]"
      ]
     },
     "execution_count": 24,
     "metadata": {},
     "output_type": "execute_result"
    },
    {
     "data": {
      "image/png": "[encoded data removed]",
      "text/plain": [
       "<matplotlib.figure.Figure at 0x109d70b70>"
      ]
     },
     "metadata": {},
     "output_type": "display_data"
    }
   ],
   "source": [
    "pl.plot(test.data['mock1.time'], test.data['mock1.wave'], '.-')"
   ]
  },
  {
   "cell_type": "markdown",
   "metadata": {},
   "source": [
    "Todo:\n",
    "- automatically add parameters and labels to plot\n",
    "- use any way of plotting with matplotlib\n",
    "- fig.update() replots all lines with updated values\n",
    "- multiple figure support\n"
   ]
  },
  {
   "cell_type": "code",
   "execution_count": null,
   "metadata": {
    "collapsed": true
   },
   "outputs": [],
   "source": [
    "title = 'my first experiment'\n",
    "test = squidpy.Experiment(title, instruments.all())\n",
    "test.watch(10)\n",
    "\n",
    "fig = livefigure(test.plotter_pipe)\n",
    "subplot(121)\n",
    "plot('mock1.time','mock1.wave')\n",
    "title('test1')\n",
    "subplot(122)\n",
    "plot('mock2.time', 'mock2.wave')\n",
    "title('test2')a\n",
    "\n",
    "mock1.reset_timer()\n",
    "test.run()"
   ]
  }
 ],
 "metadata": {
  "kernelspec": {
   "display_name": "Python 3",
   "language": "python",
   "name": "python3"
  },
  "language_info": {
   "codemirror_mode": {
    "name": "ipython",
    "version": 3
   },
   "file_extension": ".py",
   "mimetype": "text/x-python",
   "name": "python",
   "nbconvert_exporter": "python",
   "pygments_lexer": "ipython3",
   "version": "3.5.0"
  }
 },
 "nbformat": 4,
 "nbformat_minor": 0
}
