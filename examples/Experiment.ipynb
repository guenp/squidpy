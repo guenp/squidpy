{
 "cells": [
  {
   "cell_type": "code",
   "execution_count": 1,
   "metadata": {
    "collapsed": false
   },
   "outputs": [],
   "source": [
    "import squidpy\n",
    "import pylab as pl\n",
    "%matplotlib inline\n",
    "\n",
    "mock1 = squidpy.Mock('mock1')\n",
    "mock2 = squidpy.Mock('mock2')\n",
    "instruments = squidpy.InstrumentList(mock1, mock2)"
   ]
  },
  {
   "cell_type": "code",
   "execution_count": 2,
   "metadata": {
    "collapsed": false
   },
   "outputs": [
    {
     "data": {
      "text/html": [
       "\n",
       "    Instrument list\n",
       "    <table width=100%><tr><td>mock1</td><td>['wave', 'time', 'voltage']</td></tr><tr><td>mock2</td><td>['wave', 'time', 'voltage']</td></tr></table>"
      ],
      "text/plain": [
       "[<squidpy.instruments.mock_instrument.Mock at 0x1063bf630>,\n",
       " <squidpy.instruments.mock_instrument.Mock at 0x1063bf710>]"
      ]
     },
     "execution_count": 2,
     "metadata": {},
     "output_type": "execute_result"
    }
   ],
   "source": [
    "instruments"
   ]
  },
  {
   "cell_type": "code",
   "execution_count": 3,
   "metadata": {
    "collapsed": false,
    "scrolled": true
   },
   "outputs": [
    {
     "data": {
      "image/png": "[encoded data removed]",
      "text/plain": [
       "<matplotlib.figure.Figure at 0x108e0ebe0>"
      ]
     },
     "metadata": {},
     "output_type": "display_data"
    }
   ],
   "source": [
    "title = 'my first experiment'\n",
    "test = squidpy.Experiment(title, instruments.all())\n",
    "test.plot.add_line('mock1.time', 'mock1.wave', '.k')\n",
    "test.plot.add_line('mock1.time', 'mock2.wave', '.r')\n",
    "mock1.reset_timer()\n",
    "test.watch(10)"
   ]
  },
  {
   "cell_type": "code",
   "execution_count": null,
   "metadata": {
    "collapsed": true
   },
   "outputs": [],
   "source": []
  }
 ],
 "metadata": {
  "kernelspec": {
   "display_name": "Python 3",
   "language": "python",
   "name": "python3"
  },
  "language_info": {
   "codemirror_mode": {
    "name": "ipython",
    "version": 3
   },
   "file_extension": ".py",
   "mimetype": "text/x-python",
   "name": "python",
   "nbconvert_exporter": "python",
   "pygments_lexer": "ipython3",
   "version": "3.5.0"
  }
 },
 "nbformat": 4,
 "nbformat_minor": 0
}
